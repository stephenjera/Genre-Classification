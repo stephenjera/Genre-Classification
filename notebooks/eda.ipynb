{
 "cells": [
  {
   "cell_type": "code",
   "execution_count": null,
   "metadata": {},
   "outputs": [],
   "source": [
    "from pathlib import Path\n",
    "\n",
    "import librosa.display\n",
    "import matplotlib.pyplot as plt\n",
    "import numpy as np"
   ]
  },
  {
   "cell_type": "code",
   "execution_count": null,
   "metadata": {},
   "outputs": [],
   "source": [
    "data_directory = Path.cwd().parent / \"data\"\n",
    "genres_dir = data_directory / \"genres\"\n",
    "\n",
    "genres = {\n",
    "    genre_dir.name: list(genre_dir.glob(\"*.wav\"))\n",
    "    for genre_dir in genres_dir.iterdir()\n",
    "    if genre_dir.is_dir()\n",
    "}"
   ]
  },
  {
   "cell_type": "markdown",
   "metadata": {},
   "source": [
    "# Spectrogram"
   ]
  },
  {
   "cell_type": "code",
   "execution_count": null,
   "metadata": {},
   "outputs": [],
   "source": [
    "# Define the number of songs to plot per genre\n",
    "num_songs = 4\n",
    "\n",
    "# Iterate over all genres\n",
    "for genre, paths in genres.items():\n",
    "    # Create a new figure for each genre\n",
    "    plt.figure(figsize=(10, 4 * num_songs))\n",
    "    \n",
    "    for i in range(num_songs):\n",
    "        # Load the i-th audio file of the genre\n",
    "        signal, sr = librosa.load(paths[i])\n",
    "\n",
    "        # Normalize the signal\n",
    "        signal = librosa.util.normalize(signal)\n",
    "\n",
    "        # Compute the spectrogram\n",
    "        spectrogram = librosa.feature.melspectrogram(y=signal)\n",
    "        spectrogram = librosa.power_to_db(spectrogram)\n",
    "\n",
    "        # Create a subplot for this song\n",
    "        plt.subplot(num_songs, 1, i + 1)\n",
    "        librosa.display.specshow(spectrogram, sr=sr, x_axis='time', y_axis='mel')\n",
    "        plt.colorbar(format='%+2.0f dB')\n",
    "        plt.title(f'Spectrogram for {genre}, song {i + 1}')\n",
    "\n",
    "    # Show the figure\n",
    "    plt.tight_layout()\n",
    "    plt.show()"
   ]
  },
  {
   "cell_type": "markdown",
   "metadata": {},
   "source": [
    "# FFT"
   ]
  },
  {
   "cell_type": "code",
   "execution_count": null,
   "metadata": {},
   "outputs": [],
   "source": [
    "# Define the number of songs to plot per genre\n",
    "num_songs = 4\n",
    "\n",
    "# Iterate over all genres\n",
    "for genre, paths in genres.items():\n",
    "    # Create a new figure for each genre\n",
    "    plt.figure(figsize=(10, 4 * num_songs))\n",
    "    \n",
    "    for i in range(num_songs):\n",
    "        # Load the i-th audio file of the genre\n",
    "        signal, sr = librosa.load(paths[i])\n",
    "\n",
    "        # Normalize the signal\n",
    "        signal = librosa.util.normalize(signal)\n",
    "\n",
    "        # Compute the FFT\n",
    "        fft = np.fft.fft(signal)\n",
    "\n",
    "        # Compute the frequencies corresponding to the FFT values\n",
    "        frequencies = np.linspace(0, sr, len(fft))\n",
    "\n",
    "        # Create a subplot for this song\n",
    "        plt.subplot(num_songs, 1, i + 1)\n",
    "        plt.plot(frequencies[:int(len(frequencies)/2)], np.abs(fft)[:int(len(fft)/2)])  # We only plot the first half of the frequencies, as the second half is a mirror image of the first half for real signals.\n",
    "        plt.title(f'FFT for {genre}, song {i + 1}')\n",
    "\n",
    "    # Show the figure\n",
    "    plt.tight_layout()\n",
    "    plt.show()"
   ]
  },
  {
   "cell_type": "markdown",
   "metadata": {},
   "source": [
    "# Raw Audio"
   ]
  },
  {
   "cell_type": "code",
   "execution_count": null,
   "metadata": {},
   "outputs": [],
   "source": [
    "# Define the number of songs to plot per genre\n",
    "num_songs = 4\n",
    "\n",
    "# Iterate over all genres\n",
    "for genre, paths in genres.items():\n",
    "    # Create a new figure for each genre\n",
    "    plt.figure(figsize=(10, 4 * num_songs))\n",
    "    \n",
    "    for i in range(num_songs):\n",
    "        # Load the i-th audio file of the genre\n",
    "        signal, sr = librosa.load(paths[i])\n",
    "\n",
    "        # Normalize the signal\n",
    "        signal = librosa.util.normalize(signal)\n",
    "\n",
    "        # Compute the time axis\n",
    "        time = np.arange(0, len(signal)) / sr\n",
    "\n",
    "        # Create a subplot for this song\n",
    "        plt.subplot(num_songs, 1, i + 1)\n",
    "        plt.plot(time, signal)\n",
    "        plt.title(f'Raw audio signal for {genre}, song {i + 1}')\n",
    "\n",
    "    # Show the figure\n",
    "    plt.tight_layout()\n",
    "    plt.show()"
   ]
  },
  {
   "cell_type": "markdown",
   "metadata": {},
   "source": [
    "# Chroma Analysis"
   ]
  },
  {
   "cell_type": "code",
   "execution_count": null,
   "metadata": {},
   "outputs": [],
   "source": [
    "# Define the number of songs to plot per genre\n",
    "num_songs = 4\n",
    "\n",
    "# Define the note labels\n",
    "note_labels = ['C', 'C#', 'D', 'D#', 'E', 'F', 'F#', 'G', 'G#', 'A', 'A#', 'B']\n",
    "\n",
    "# Iterate over all genres\n",
    "for genre, paths in genres.items():\n",
    "    # Create a new figure for each genre\n",
    "    plt.figure(figsize=(10, 4 * num_songs))\n",
    "    \n",
    "    for i in range(num_songs):\n",
    "        # Load the i-th audio file of the genre\n",
    "        signal, sr = librosa.load(paths[i])\n",
    "\n",
    "        # Normalize the signal\n",
    "        signal = librosa.util.normalize(signal)\n",
    "\n",
    "        # Compute the chroma feature\n",
    "        chroma = librosa.feature.chroma_stft(y=signal, sr=sr)\n",
    "\n",
    "        # Create a subplot for this song\n",
    "        plt.subplot(num_songs, 1, i + 1)\n",
    "        librosa.display.specshow(chroma, sr=sr, x_axis='time', y_axis='chroma', vmin=0, vmax=1)\n",
    "        \n",
    "        # Set the y-axis labels to note labels\n",
    "        plt.yticks(range(12), note_labels)\n",
    "        \n",
    "        plt.title(f'Chroma feature for {genre}, song {i + 1}')\n",
    "\n",
    "    # Show the figure\n",
    "    plt.tight_layout()\n",
    "    plt.show()"
   ]
  },
  {
   "cell_type": "markdown",
   "metadata": {},
   "source": [
    "# MFCC"
   ]
  },
  {
   "cell_type": "code",
   "execution_count": null,
   "metadata": {},
   "outputs": [],
   "source": [
    "# Define the number of songs to plot per genre\n",
    "num_songs = 4\n",
    "\n",
    "# Iterate over all genres\n",
    "for genre, paths in genres.items():\n",
    "    # Create a new figure for each genre\n",
    "    plt.figure(figsize=(10, 4 * num_songs))\n",
    "    \n",
    "    for i in range(num_songs):\n",
    "        # Load the i-th audio file of the genre\n",
    "        signal, sr = librosa.load(paths[i])\n",
    "\n",
    "        # Normalize the signal\n",
    "        signal = librosa.util.normalize(signal)\n",
    "\n",
    "        # Compute the MFCCs\n",
    "        mfccs = librosa.feature.mfcc(y=signal, sr=sr)\n",
    "\n",
    "        # Create a subplot for this song\n",
    "        plt.subplot(num_songs, 1, i + 1)\n",
    "        librosa.display.specshow(mfccs, sr=sr, x_axis='time', y_axis='mel')\n",
    "        \n",
    "        # Set the y-axis label to 'MFCC coefficients'\n",
    "        plt.ylabel('MFCC coefficients')\n",
    "        \n",
    "        plt.title(f'MFCCs for {genre}, song {i + 1}')\n",
    "\n",
    "    # Show the figure\n",
    "    plt.tight_layout()\n",
    "    plt.show()\n"
   ]
  }
 ],
 "metadata": {
  "kernelspec": {
   "display_name": "Genre-Classification-Tl9UQQdU",
   "language": "python",
   "name": "python3"
  },
  "language_info": {
   "codemirror_mode": {
    "name": "ipython",
    "version": 3
   },
   "file_extension": ".py",
   "mimetype": "text/x-python",
   "name": "python",
   "nbconvert_exporter": "python",
   "pygments_lexer": "ipython3",
   "version": "3.10.11"
  }
 },
 "nbformat": 4,
 "nbformat_minor": 2
}
