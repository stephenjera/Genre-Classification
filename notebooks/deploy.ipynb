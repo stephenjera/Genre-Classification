{
 "cells": [
  {
   "cell_type": "code",
   "execution_count": 4,
   "metadata": {},
   "outputs": [],
   "source": [
    "#run again ater running next cell\n",
    "import dagshub\n",
    "import mlflow\n",
    "import sys\n",
    "import torch\n",
    "import json\n",
    "import numpy as np\n",
    "import requests\n",
    "from pathlib import Path\n",
    "from pprint import pprint\n",
    "from genre_classifier.model import MFCCDataModule"
   ]
  },
  {
   "cell_type": "code",
   "execution_count": 2,
   "metadata": {},
   "outputs": [],
   "source": [
    "path = Path.cwd().parent /\"src\" \n",
    "sys.path.append(str(path))"
   ]
  },
  {
   "cell_type": "code",
   "execution_count": 6,
   "metadata": {},
   "outputs": [],
   "source": [
    "dataset_path = Path.cwd().parent / \"data\" / \"processed\" / \"genres_mfccs.json\""
   ]
  },
  {
   "cell_type": "code",
   "execution_count": null,
   "metadata": {},
   "outputs": [],
   "source": [
    "dagshub.init(\n",
    "    repo_owner=\"stephenjera\",\n",
    "    repo_name=\"Genre-Classification\",\n",
    "    mlflow=True,\n",
    ")"
   ]
  },
  {
   "cell_type": "code",
   "execution_count": 7,
   "metadata": {},
   "outputs": [],
   "source": [
    "mlflow.set_tracking_uri('http://localhost:5000')"
   ]
  },
  {
   "cell_type": "code",
   "execution_count": 8,
   "metadata": {},
   "outputs": [
    {
     "name": "stdout",
     "output_type": "stream",
     "text": [
      "Loading Data\n"
     ]
    }
   ],
   "source": [
    "# Load one sample from data \n",
    "X, y, mappings = MFCCDataModule.load_data(dataset_path)"
   ]
  },
  {
   "cell_type": "code",
   "execution_count": 9,
   "metadata": {},
   "outputs": [],
   "source": [
    "reverse_dict = {v: k for k, v in mappings.items()}"
   ]
  },
  {
   "cell_type": "code",
   "execution_count": 10,
   "metadata": {},
   "outputs": [],
   "source": [
    "X = torch.tensor(X, dtype=torch.float32).clone().detach()"
   ]
  },
  {
   "cell_type": "markdown",
   "metadata": {},
   "source": [
    "## Predict from deployed model"
   ]
  },
  {
   "cell_type": "markdown",
   "metadata": {},
   "source": [
    "run in command line\n",
    "```shell\n",
    "mlflow models serve -m \"models:/genre-classifier/19\" --port 1234 --no-conda\n",
    "```\n"
   ]
  },
  {
   "cell_type": "code",
   "execution_count": null,
   "metadata": {},
   "outputs": [],
   "source": [
    "print(X.shape)\n",
    "print(X[:1].shape)\n",
    "print(X[0].shape)"
   ]
  },
  {
   "cell_type": "code",
   "execution_count": null,
   "metadata": {},
   "outputs": [],
   "source": [
    "#X = np.array(X, dtype=np.float128)\n",
    "#X = torch.tensor(X, dtype=torch.int64).clone().detach()\n",
    "single_mfcc = X[:1].tolist()\n",
    "#single_mfcc = single_mfcc.astype(np.float64).tolist()\n",
    "#single_mfcc = torch.from_numpy(X[:1]).float().tolist()\n",
    "\n",
    "# Make prediction request\n",
    "url = 'http://localhost:1234/invocations'\n",
    "headers = {'Content-Type': 'application/json'}\n",
    "data = {\n",
    "  \"instances\": single_mfcc\n",
    "}\n",
    "response = requests.post(url, headers=headers, data=json.dumps(data))\n",
    "\n",
    "# Print prediction\n",
    "pprint(response.json())"
   ]
  },
  {
   "cell_type": "code",
   "execution_count": null,
   "metadata": {},
   "outputs": [],
   "source": [
    "predictions = response.json()['predictions']\n",
    "\n",
    "# Convert the predictions to a numpy array\n",
    "predictions_array = np.array(predictions)\n",
    "\n",
    "# Find the index of the maximum value\n",
    "argmax_index = np.argmax(predictions_array)\n",
    "\n",
    "print(f\"prediction:{argmax_index}, {reverse_dict[argmax_index]} Actual {y[0]}, {reverse_dict[y[0]]}\")"
   ]
  },
  {
   "cell_type": "markdown",
   "metadata": {},
   "source": [
    "## Predict from loaded model"
   ]
  },
  {
   "cell_type": "code",
   "execution_count": 12,
   "metadata": {},
   "outputs": [
    {
     "data": {
      "application/vnd.jupyter.widget-view+json": {
       "model_id": "b033f0a020b04775943f235f7f475f0a",
       "version_major": 2,
       "version_minor": 0
      },
      "text/plain": [
       "Downloading artifacts:   0%|          | 0/9 [00:00<?, ?it/s]"
      ]
     },
     "metadata": {},
     "output_type": "display_data"
    }
   ],
   "source": [
    "model_uri = \"models:/genre-classifier/1\"\n",
    "loaded_model = mlflow.pytorch.load_model(model_uri)"
   ]
  },
  {
   "cell_type": "code",
   "execution_count": 13,
   "metadata": {},
   "outputs": [
    {
     "name": "stderr",
     "output_type": "stream",
     "text": [
      "/var/folders/hh/nxv389h50tjc59gglqdnd7_m0000gn/T/ipykernel_30725/2340729352.py:1: UserWarning: To copy construct from a tensor, it is recommended to use sourceTensor.clone().detach() or sourceTensor.clone().detach().requires_grad_(True), rather than torch.tensor(sourceTensor).\n",
      "  prediction = loaded_model.predict_step(torch.tensor(X[:2]))\n"
     ]
    }
   ],
   "source": [
    "prediction = loaded_model.predict_step(torch.tensor(X[:2]))"
   ]
  },
  {
   "cell_type": "code",
   "execution_count": 14,
   "metadata": {},
   "outputs": [
    {
     "name": "stdout",
     "output_type": "stream",
     "text": [
      "The predicted class index is 12\n"
     ]
    }
   ],
   "source": [
    "# Get the predicted class\n",
    "predicted_class_index = prediction.argmax().item()\n",
    "print(f\"The predicted class index is {predicted_class_index}\")"
   ]
  },
  {
   "cell_type": "code",
   "execution_count": 15,
   "metadata": {},
   "outputs": [
    {
     "ename": "KeyError",
     "evalue": "12",
     "output_type": "error",
     "traceback": [
      "\u001b[0;31m---------------------------------------------------------------------------\u001b[0m",
      "\u001b[0;31mKeyError\u001b[0m                                  Traceback (most recent call last)",
      "\u001b[1;32m/Users/harjitgakhal/Documents/Genre-Classification/notebooks/deploy.ipynb Cell 18\u001b[0m line \u001b[0;36m2\n\u001b[1;32m      <a href='vscode-notebook-cell:/Users/harjitgakhal/Documents/Genre-Classification/notebooks/deploy.ipynb#X23sZmlsZQ%3D%3D?line=0'>1</a>\u001b[0m \u001b[39mprint\u001b[39m(\n\u001b[0;32m----> <a href='vscode-notebook-cell:/Users/harjitgakhal/Documents/Genre-Classification/notebooks/deploy.ipynb#X23sZmlsZQ%3D%3D?line=1'>2</a>\u001b[0m     \u001b[39mf\u001b[39m\u001b[39m\"\u001b[39m\u001b[39mprediction:\u001b[39m\u001b[39m{\u001b[39;00mpredicted_class_index\u001b[39m}\u001b[39;00m\u001b[39m, \u001b[39m\u001b[39m{\u001b[39;00mreverse_dict[predicted_class_index]\u001b[39m}\u001b[39;00m\u001b[39m Actual \u001b[39m\u001b[39m{\u001b[39;00my[\u001b[39m1\u001b[39m]\u001b[39m}\u001b[39;00m\u001b[39m, \u001b[39m\u001b[39m{\u001b[39;00mreverse_dict[y[\u001b[39m1\u001b[39m]]\u001b[39m}\u001b[39;00m\u001b[39m\"\u001b[39m\n\u001b[1;32m      <a href='vscode-notebook-cell:/Users/harjitgakhal/Documents/Genre-Classification/notebooks/deploy.ipynb#X23sZmlsZQ%3D%3D?line=2'>3</a>\u001b[0m )\n",
      "\u001b[0;31mKeyError\u001b[0m: 12"
     ]
    }
   ],
   "source": [
    "print(\n",
    "    f\"prediction:{predicted_class_index}, {reverse_dict[predicted_class_index]} Actual {y[1]}, {reverse_dict[y[1]]}\"\n",
    ")"
   ]
  }
 ],
 "metadata": {
  "kernelspec": {
   "display_name": "genre-classification",
   "language": "python",
   "name": "python3"
  },
  "language_info": {
   "codemirror_mode": {
    "name": "ipython",
    "version": 3
   },
   "file_extension": ".py",
   "mimetype": "text/x-python",
   "name": "python",
   "nbconvert_exporter": "python",
   "pygments_lexer": "ipython3",
   "version": "3.10.11"
  }
 },
 "nbformat": 4,
 "nbformat_minor": 2
}
