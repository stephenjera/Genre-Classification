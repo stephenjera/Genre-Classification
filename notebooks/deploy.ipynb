{
 "cells": [
  {
   "cell_type": "code",
   "execution_count": null,
   "metadata": {},
   "outputs": [],
   "source": [
    "import sys\n",
    "from pathlib import Path\n",
    "sys.path.append(str(Path.cwd().parent /\"src\"))"
   ]
  },
  {
   "cell_type": "code",
   "execution_count": null,
   "metadata": {},
   "outputs": [],
   "source": [
    "import dagshub\n",
    "import mlflow\n",
    "import torch\n",
    "import json\n",
    "import numpy as np\n",
    "import requests\n",
    "from pprint import pprint\n",
    "from genre_classifier.model import MFCCDataModule"
   ]
  },
  {
   "cell_type": "code",
   "execution_count": null,
   "metadata": {},
   "outputs": [],
   "source": [
    "dataset_path = Path.cwd().parent / \"data\" / \"processed\" / \"genres_mfccs.json\""
   ]
  },
  {
   "cell_type": "code",
   "execution_count": null,
   "metadata": {},
   "outputs": [],
   "source": [
    "dagshub.init(\n",
    "    repo_owner=\"stephenjera\",\n",
    "    repo_name=\"Genre-Classification\",\n",
    "    mlflow=True,\n",
    ")"
   ]
  },
  {
   "cell_type": "markdown",
   "metadata": {},
   "source": [
    "Set mlflow tracking uri\n",
    "\n",
    "```powershell\n",
    "Set-Item -Path Env:MLFLOW_TRACKING_URI -Value ($Env:MLFLOW_TRACKING_URI + \"https://dagshub.com/stephenjera/Genre-Classification.mlflow\")\n",
    "```\n",
    "\n",
    "```bash\n",
    "export MLFLOW_TRACKING_URI=\"https://dagshub.com/stephenjera/Genre-Classification.mlflow\"\n",
    "```"
   ]
  },
  {
   "cell_type": "code",
   "execution_count": null,
   "metadata": {},
   "outputs": [],
   "source": [
    "X, y, mappings = MFCCDataModule.load_data(dataset_path)"
   ]
  },
  {
   "cell_type": "markdown",
   "metadata": {},
   "source": [
    "## Predict from deployed model"
   ]
  },
  {
   "cell_type": "markdown",
   "metadata": {},
   "source": [
    "run in command line\n",
    "\n",
    "```shell\n",
    "mlflow models serve -m \"models:/genre-classifier/production\" --port 1234 --no-conda\n",
    "```"
   ]
  },
  {
   "cell_type": "code",
   "execution_count": null,
   "metadata": {},
   "outputs": [],
   "source": [
    "single_mfcc = X[:1].tolist()\n",
    "\n",
    "# Make prediction request\n",
    "url = 'http://localhost:1234/invocations'\n",
    "headers = {'Content-Type': 'application/json'}\n",
    "data = {\n",
    "  \"instances\": single_mfcc\n",
    "}\n",
    "response = requests.post(url, headers=headers, data=json.dumps(data))\n",
    "\n",
    "# Print prediction\n",
    "pprint(response.json())"
   ]
  },
  {
   "cell_type": "code",
   "execution_count": null,
   "metadata": {},
   "outputs": [],
   "source": [
    "predictions = response.json()['predictions']\n",
    "\n",
    "# Convert the predictions to a numpy array\n",
    "predictions_array = np.array(predictions)\n",
    "\n",
    "# Find the index of the maximum value\n",
    "argmax_index = np.argmax(predictions_array)\n",
    "\n",
    "print(f\"prediction:{argmax_index}, {mappings[str(argmax_index)]} Actual {y[0]}, {mappings[str(y[0])]}\")"
   ]
  },
  {
   "cell_type": "markdown",
   "metadata": {},
   "source": [
    "## Predict from loaded model"
   ]
  },
  {
   "cell_type": "code",
   "execution_count": null,
   "metadata": {},
   "outputs": [],
   "source": [
    "X2 = torch.tensor(X, dtype=torch.float32).clone().detach()"
   ]
  },
  {
   "cell_type": "code",
   "execution_count": null,
   "metadata": {},
   "outputs": [],
   "source": [
    "model_uri = \"models:/genre-classifier/8\"\n",
    "loaded_model = mlflow.pytorch.load_model(model_uri)"
   ]
  },
  {
   "cell_type": "code",
   "execution_count": null,
   "metadata": {},
   "outputs": [],
   "source": [
    "prediction = loaded_model.predict_step(X2[:1])"
   ]
  },
  {
   "cell_type": "code",
   "execution_count": null,
   "metadata": {},
   "outputs": [],
   "source": [
    "# Get the predicted class\n",
    "predicted_class_index = prediction.argmax().item()\n",
    "print(\n",
    "    f\"prediction:{predicted_class_index}, {mappings[str(predicted_class_index)]} Actual {y[0]}, {mappings[str(y[0])]}\"\n",
    ")"
   ]
  }
 ],
 "metadata": {
  "kernelspec": {
   "display_name": "genre-classification",
   "language": "python",
   "name": "python3"
  },
  "language_info": {
   "codemirror_mode": {
    "name": "ipython",
    "version": 3
   },
   "file_extension": ".py",
   "mimetype": "text/x-python",
   "name": "python",
   "nbconvert_exporter": "python",
   "pygments_lexer": "ipython3",
   "version": "3.10.11"
  }
 },
 "nbformat": 4,
 "nbformat_minor": 2
}
